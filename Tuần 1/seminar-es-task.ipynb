{
 "cells": [
  {
   "cell_type": "markdown",
   "metadata": {},
   "source": [
    "## Evolution Strategies\n",
    "\n",
    "![img](https://t4.ftcdn.net/jpg/00/17/46/81/240_F_17468143_wY3hsHyfNYoMdG9BlC56HI4JA7pNu63h.jpg)\n",
    "\n",
    "[The paper about the algorithm](https://arxiv.org/abs/1703.03864)\n",
    "\n",
    "Plan:\n",
    "* Study how to use OpenAI gym\n",
    "* Basic prototype of evolutionary strategies that works in one thread on CartPole\n",
    "* Modify the code to make them work in parallel\n",
    "* Use the algorithm to solve the LunarLander\n",
    "* Analyse the influence of hyperparameters\n",
    "\n",
    "( Nghiên cứu cách sử dụng OpenAI gym\n",
    "\n",
    "Nguyên mẫu cơ bản của chiến lược tiến hóa hoạt động trên một luồng với CartPole\n",
    "\n",
    "Sửa đổi mã để làm cho chúng hoạt động song song\n",
    "\n",
    "Sử dụng thuật toán để giải quyết LunarLander\n",
    "\n",
    "Phân tích ảnh hưởng của các siêu tham số )"
   ]
  },
  {
   "cell_type": "code",
   "execution_count": 96,
   "metadata": {},
   "outputs": [],
   "source": [
    "import sys, os\n",
    "if 'google.colab' in sys.modules and not os.path.exists('.setup_complete'):\n",
    "    !wget -q https://raw.githubusercontent.com/yandexdataschool/Practical_RL/master/setup_colab.sh -O- | bash\n",
    "\n",
    "    !touch .setup_complete\n",
    "\n",
    "# This code creates a virtual display to draw game images on.\n",
    "# It will have no effect if your machine has a monitor.\n",
    "if type(os.environ.get(\"DISPLAY\")) is not str or len(os.environ.get(\"DISPLAY\")) == 0:\n",
    "    !bash ../xvfb start\n",
    "    os.environ['DISPLAY'] = ':1'"
   ]
  },
  {
   "cell_type": "code",
   "execution_count": 97,
   "metadata": {},
   "outputs": [],
   "source": [
    "import numpy as np\n",
    "import matplotlib.pyplot as plt\n",
    "\n",
    "import torch\n",
    "import torch.nn as nn\n",
    "import time\n",
    "from copy import deepcopy\n",
    "from joblib import Parallel, delayed\n",
    "from IPython.display import clear_output\n",
    "from IPython import display\n",
    "\n",
    "# Dòng này chỉ dùng trong môi trường Jupyter Notebook:\n",
    "%matplotlib inline\n"
   ]
  },
  {
   "cell_type": "markdown",
   "metadata": {},
   "source": [
    "# OpenAI gym environment"
   ]
  },
  {
   "cell_type": "code",
   "execution_count": 98,
   "metadata": {},
   "outputs": [
    {
     "data": {
      "image/png": "[encoded data removed]",
      "text/plain": [
       "<Figure size 640x480 with 1 Axes>"
      ]
     },
     "metadata": {},
     "output_type": "display_data"
    },
    {
     "name": "stdout",
     "output_type": "stream",
     "text": [
      "Observation space: Box([-4.8000002e+00 -3.4028235e+38 -4.1887903e-01 -3.4028235e+38], [4.8000002e+00 3.4028235e+38 4.1887903e-01 3.4028235e+38], (4,), float32)\n",
      "Action space: Discrete(2)\n",
      "State size: 4\n",
      "Number of actions: 2\n"
     ]
    }
   ],
   "source": [
    "import gym\n",
    "import matplotlib.pyplot as plt\n",
    "\n",
    "# Tạo môi trường CartPole-v0 với chế độ render là 'rgb_array'\n",
    "tmp_env = gym.make(\"CartPole-v0\", render_mode='rgb_array')\n",
    "\n",
    "# Đặt lại trạng thái ban đầu của môi trường (trả về observation, info)\n",
    "observation, info = tmp_env.reset()\n",
    "\n",
    "# Lấy hình ảnh từ môi trường (dưới dạng mảng RGB)\n",
    "img = tmp_env.render()\n",
    "\n",
    "# Hiển thị hình ảnh của môi trường bằng matplotlib\n",
    "plt.imshow(img)\n",
    "plt.title(\"CartPole Environment\")\n",
    "plt.axis('off')  # Ẩn trục để hình ảnh đẹp hơn\n",
    "plt.show()\n",
    "\n",
    "# In ra không gian quan sát (observation space)\n",
    "print(\"Observation space:\", tmp_env.observation_space)\n",
    "\n",
    "# In ra không gian hành động (action space)\n",
    "print(\"Action space:\", tmp_env.action_space)\n",
    "\n",
    "# Lấy kích thước của không gian quan sát (số lượng đặc trưng trong trạng thái)\n",
    "state_size = tmp_env.observation_space.shape[0]\n",
    "\n",
    "# Lấy số lượng hành động có thể thực hiện trong môi trường\n",
    "n_actions = tmp_env.action_space.n\n",
    "\n",
    "print(\"State size:\", state_size)\n",
    "print(\"Number of actions:\", n_actions)\n"
   ]
  },
  {
   "cell_type": "markdown",
   "metadata": {},
   "source": [
    "### How to interact with the environment"
   ]
  },
  {
   "cell_type": "code",
   "execution_count": 128,
   "metadata": {},
   "outputs": [
    {
     "name": "stdout",
     "output_type": "stream",
     "text": [
      "Initial observation: [ 0.02661874  0.02388939  0.00205288 -0.0462423 ]\n",
      "At each step it returns:\n",
      "new observation: [ 0.02709653 -0.17126194  0.00112804  0.24708763]\n",
      "reward: 1.0\n",
      "is game over?: False\n"
     ]
    }
   ],
   "source": [
    "import gym\n",
    "\n",
    "# Tạo môi trường CartPole-v0\n",
    "tmp_env = gym.make(\"CartPole-v0\", render_mode='rgb_array')\n",
    "\n",
    "# Reset môi trường và nhận trạng thái ban đầu + thông tin phụ\n",
    "observation, info = tmp_env.reset()\n",
    "print(\"Initial observation:\", observation)  # In ra trạng thái ban đầu\n",
    "\n",
    "# Thực hiện hành động 0 (giữ cột thẳng đứng)\n",
    "new_observation, reward, terminated, truncated, info = tmp_env.step(0)\n",
    "\n",
    "# Tính xem trò chơi có kết thúc không (do thắng/thua hoặc quá số bước)\n",
    "done = terminated or truncated\n",
    "\n",
    "# In ra thông tin từng bước\n",
    "print(\"At each step it returns:\")\n",
    "print(\"new observation:\", new_observation)\n",
    "print(\"reward:\", reward)\n",
    "print(\"is game over?:\", done)\n"
   ]
  },
  {
   "cell_type": "markdown",
   "metadata": {},
   "source": [
    "### Display an episode"
   ]
  },
  {
   "cell_type": "code",
   "execution_count": 134,
   "metadata": {},
   "outputs": [],
   "source": [
    "def display_session(env, agent, t_max=500):\n",
    "    total_reward = 0\n",
    "    plt.figure(figsize=(4, 3))\n",
    "    display.clear_output(wait=True)\n",
    "\n",
    "    s = env.reset()\n",
    "    if isinstance(s, tuple):  # Nếu trạng thái trả về là tuple (state, info)\n",
    "        s = s[0]\n",
    "    s = np.array(s)  # Chuyển đổi trạng thái thành mảng NumPy nếu cần\n",
    "\n",
    "    for t in range(t_max):\n",
    "        plt.gca().clear()\n",
    "\n",
    "        a = agent.get_action(torch.tensor(s).float())\n",
    "        new_s, r, terminated, truncated, info = env.step(a)\n",
    "        s = new_s\n",
    "        total_reward += r\n",
    "\n",
    "        # Kiểm tra dữ liệu từ env.render()\n",
    "        frame = env.render()\n",
    "        if isinstance(frame, np.ndarray):\n",
    "            plt.imshow(frame)\n",
    "        else:\n",
    "            print(\"Render returned invalid data:\", type(frame))\n",
    "            break\n",
    "\n",
    "        display.display(plt.gcf())\n",
    "        display.clear_output(wait=True)\n",
    "\n",
    "        if truncated or terminated:\n",
    "            break\n",
    "            \n",
    "    return total_reward"
   ]
  },
  {
   "cell_type": "markdown",
   "metadata": {},
   "source": [
    "### Random policy"
   ]
  },
  {
   "cell_type": "code",
   "execution_count": 135,
   "metadata": {},
   "outputs": [],
   "source": [
    "class RandomPolicy:\n",
    "    def __init__(self, n_actions):\n",
    "        \"\"\"\n",
    "        Khởi tạo chính sách ngẫu nhiên với số lượng hành động.\n",
    "        :param n_actions: Số lượng hành động có thể thực hiện.\n",
    "        \"\"\"\n",
    "        self.n_actions = n_actions\n",
    "\n",
    "    def get_action(self, state):\n",
    "        \"\"\"\n",
    "        Trả về một hành động ngẫu nhiên.\n",
    "        :param state: Trạng thái hiện tại của môi trường (không sử dụng trong chính sách ngẫu nhiên).\n",
    "        :return: Một hành động ngẫu nhiên.\n",
    "        \"\"\"\n",
    "        return np.random.choice(self.n_actions)\n",
    "    #pass"
   ]
  },
  {
   "cell_type": "code",
   "execution_count": 136,
   "metadata": {},
   "outputs": [
    {
     "name": "stdout",
     "output_type": "stream",
     "text": [
      "Total reward:  22.0\n"
     ]
    }
   ],
   "source": [
    "total_reward = display_session(tmp_env, RandomPolicy(n_actions))\n",
    "print('Total reward: ', total_reward)"
   ]
  },
  {
   "cell_type": "markdown",
   "metadata": {},
   "source": [
    "# The challenge of the day"
   ]
  },
  {
   "cell_type": "markdown",
   "metadata": {},
   "source": [
    "![Algorithm](https://i.ibb.co/zFm6BrB/Screenshot-from-2021-09-17-13-38-00.png)"
   ]
  },
  {
   "cell_type": "markdown",
   "metadata": {},
   "source": [
    "### Model evaluation\n",
    "\n",
    "(Đánh giá mô hình)"
   ]
  },
  {
   "cell_type": "code",
   "execution_count": 148,
   "metadata": {},
   "outputs": [],
   "source": [
    "def generate_session(env, agent, t_max=500):\n",
    "    total_reward = 0\n",
    "    s = env.reset()\n",
    "    if isinstance(s, tuple):\n",
    "        s = s[0]\n",
    "    s = np.array(s)  # Đảm bảo s là mảng NumPy\n",
    "    for t in range(t_max):\n",
    "         # Chuyển đổi state thành tensor\n",
    "        state_tensor = torch.tensor(s, dtype=torch.float32)\n",
    "        a = agent.get_action(state_tensor)\n",
    "        \n",
    "        # Thực hiện bước trong môi trường\n",
    "        new_s, r, terminated, truncated, info = env.step(a)\n",
    "        total_reward += r\n",
    "        \n",
    "        # Xử lý new_s nếu cần\n",
    "        if isinstance(new_s, tuple):\n",
    "            new_s = new_s[0]\n",
    "        s = np.array(new_s)\n",
    "        if terminated or truncated:\n",
    "            break\n",
    "            \n",
    "    return total_reward\n",
    "\n",
    "\n",
    "def score(env, agent, n=10, t_max=500):\n",
    "    pass"
   ]
  },
  {
   "cell_type": "markdown",
   "metadata": {},
   "source": [
    "### Modification of the model using a noise "
   ]
  },
  {
   "cell_type": "code",
   "execution_count": 149,
   "metadata": {},
   "outputs": [],
   "source": [
    "def add_noise_to_model(model, noise, copy=False):\n",
    "    \"\"\"\n",
    "    Thêm nhiễu vào các tham số của mô hình.\n",
    "    \n",
    "    :param model: Mô hình PyTorch (torch.nn.Module).\n",
    "    :param noise: Nhiễu (dạng tensor hoặc mảng NumPy) có cùng kích thước với các tham số của mô hình.\n",
    "    :param copy: Nếu True, trả về một bản sao của mô hình với nhiễu được thêm vào.\n",
    "                 Nếu False, thay đổi trực tiếp mô hình ban đầu.\n",
    "    :return: Mô hình với nhiễu được thêm vào (nếu copy=True).\n",
    "    \"\"\"\n",
    "    if copy:\n",
    "        # Tạo một bản sao của mô hình\n",
    "        model = deepcopy(model)\n",
    "    \n",
    "    # Thêm nhiễu vào các tham số của mô hình\n",
    "    with torch.no_grad():\n",
    "        for param, noise_param in zip(model.parameters(), noise):\n",
    "            param.add_(noise_param)\n",
    "    \n",
    "    if copy:\n",
    "        return model\n",
    "    #pass"
   ]
  },
  {
   "cell_type": "markdown",
   "metadata": {},
   "source": [
    "### Controller of the evolution\n",
    "\n",
    "#### Task 1: Implement the algorithm"
   ]
  },
  {
   "cell_type": "code",
   "execution_count": 150,
   "metadata": {},
   "outputs": [],
   "source": [
    "class EvolutionManager:\n",
    "    def __init__(self, get_env_function, lr=0.001, std=0.01, n_samples = 64, normalize=True):\n",
    "        super().__init__()\n",
    "        \n",
    "        self.lr = lr\n",
    "        self.std = std\n",
    "        self.normalize = normalize\n",
    "        self.n_samples = n_samples\n",
    "        self.mean_reward_history = []\n",
    "        \n",
    "        self.env = get_env_function()\n",
    "        \n",
    "    def get_noised_model(self, model):\n",
    "        \"\"\"\n",
    "        Tạo các bản sao của mô hình với nhiễu Gaussian.\n",
    "        :param model: Mô hình PyTorch ban đầu.\n",
    "        :return: Danh sách các mô hình với nhiễu được thêm vào.\n",
    "        \"\"\"\n",
    "        noises = [torch.randn_like(param) * self.std for param in model.parameters()]\n",
    "        noised_model = add_noise_to_model(model, noises, copy=True)\n",
    "        return noised_model, noises\n",
    "        #pass\n",
    "\n",
    "    def optimize(self, model, noises, rewards):\n",
    "        \"\"\"\n",
    "        Tối ưu hóa mô hình dựa trên phần thưởng và nhiễu.\n",
    "        :param model: Mô hình PyTorch ban đầu.\n",
    "        :param noises: Danh sách nhiễu đã thêm vào mô hình.\n",
    "        :param rewards: Danh sách phần thưởng tương ứng với các mô hình nhiễu.\n",
    "        \"\"\"\n",
    "        if self.normalize:\n",
    "            rewards = (rewards - np.mean(rewards)) / (np.std(rewards) + 1e-8)\n",
    "        \n",
    "        with torch.no_grad():\n",
    "            for param, noise in zip(model.parameters(), zip(*noises)):\n",
    "                gradient = np.mean([r * n for r, n in zip(rewards, noise)], axis=0)\n",
    "                param.add_(self.lr * torch.tensor(gradient, dtype=param.dtype))\n",
    "        #pass\n",
    "    \n",
    "    def step(self, model):\n",
    "        \"\"\"\n",
    "        Thực hiện một bước của chiến lược tiến hóa.\n",
    "        :param model: Mô hình PyTorch ban đầu.\n",
    "        \"\"\"\n",
    "        noises = []\n",
    "        rewards = []\n",
    "        \n",
    "        # Tạo các mô hình nhiễu và tính phần thưởng\n",
    "        for _ in range(self.n_samples):\n",
    "            noised_model, noise = self.get_noised_model(model)\n",
    "            reward = generate_session(self.env, noised_model)\n",
    "            noises.append(noise)\n",
    "            rewards.append(reward)\n",
    "        \n",
    "        # Tối ưu hóa mô hình\n",
    "        self.optimize(model, noises, rewards)\n",
    "        \n",
    "        # Cập nhật log\n",
    "        self.update_log(rewards)\n",
    "        #pass\n",
    "        \n",
    "    def update_log(self, rewards):\n",
    "        \"\"\"\n",
    "        Cập nhật log phần thưởng.\n",
    "        :param rewards: Danh sách phần thưởng.\n",
    "        \"\"\"\n",
    "        mean_reward = np.mean(rewards)\n",
    "        self.mean_reward_history.append(mean_reward)\n",
    "\n",
    "        clear_output(True)\n",
    "        print(\"last mean reward = %.3f\" % mean_reward)\n",
    "        plt.figure(figsize=[8, 4])\n",
    "        plt.subplot(1, 2, 1)\n",
    "        plt.plot(self.mean_reward_history, label='Mean rewards')\n",
    "        plt.legend()\n",
    "        plt.grid()\n",
    "\n",
    "        plt.subplot(1, 2, 2)\n",
    "        plt.hist(rewards)\n",
    "        plt.grid()\n",
    "\n",
    "        plt.show()\n",
    "    "
   ]
  },
  {
   "cell_type": "markdown",
   "metadata": {},
   "source": [
    "#### Task 2: Implement a neural network-based policy\n",
    "\n",
    "(Thực hiện chính sách dựa trên mạng nơ ron)"
   ]
  },
  {
   "cell_type": "markdown",
   "metadata": {},
   "source": [
    "### Neural policy\n",
    "\n",
    "(chính sách nơ ron)"
   ]
  },
  {
   "cell_type": "code",
   "execution_count": 157,
   "metadata": {},
   "outputs": [],
   "source": [
    "class MLPPolicy(nn.Module):\n",
    "    def __init__(self, input_dim, output_dim, hidden_dim=128):\n",
    "        \"\"\"\n",
    "        Khởi tạo mạng nơ-ron chính sách.\n",
    "        :param input_dim: Số chiều của đầu vào (state size).\n",
    "        :param output_dim: Số chiều của đầu ra (action size).\n",
    "        :param hidden_dim: Số lượng neuron trong lớp ẩn.\n",
    "        \"\"\"\n",
    "        super(MLPPolicy, self).__init__()\n",
    "        self.model = nn.Sequential(\n",
    "            nn.Linear(input_dim, hidden_dim),\n",
    "            nn.ReLU(),\n",
    "            nn.Linear(hidden_dim, hidden_dim),\n",
    "            nn.ReLU(),\n",
    "            nn.Linear(hidden_dim, output_dim)\n",
    "        )\n",
    "    \n",
    "    def forward(self, x):\n",
    "        \"\"\"\n",
    "        Tính toán đầu ra của mạng nơ-ron.\n",
    "        :param x: Đầu vào (state).\n",
    "        :return: Đầu ra (logits hoặc xác suất hành động).\n",
    "        \"\"\"\n",
    "        return self.model(x)\n",
    "    \n",
    "    def get_action(self, state):\n",
    "        \"\"\"\n",
    "        Lấy hành động dựa trên trạng thái đầu vào.\n",
    "        :param state: Trạng thái hiện tại (tensor).\n",
    "        :return: Hành động được chọn (int).\n",
    "        \"\"\"\n",
    "        logits = self.forward(state)\n",
    "        action_probs = torch.softmax(logits, dim=-1)\n",
    "        action = torch.multinomial(action_probs, num_samples=1).item()\n",
    "        return action\n",
    "    #pass"
   ]
  },
  {
   "cell_type": "markdown",
   "metadata": {},
   "source": [
    "### Environment 1: CartPole-v0"
   ]
  },
  {
   "cell_type": "code",
   "execution_count": 152,
   "metadata": {},
   "outputs": [
    {
     "name": "stderr",
     "output_type": "stream",
     "text": [
      "c:\\Anaconda\\Lib\\site-packages\\gym\\envs\\registration.py:555: UserWarning: \u001b[33mWARN: The environment CartPole-v0 is out of date. You should consider upgrading to version `v1`.\u001b[0m\n",
      "  logger.warn(\n"
     ]
    }
   ],
   "source": [
    "def get_env_function():\n",
    "    env = gym.make('CartPole-v0').env\n",
    "    return env\n",
    "tmp_env = get_env_function()"
   ]
  },
  {
   "cell_type": "code",
   "execution_count": 160,
   "metadata": {},
   "outputs": [
    {
     "name": "stdout",
     "output_type": "stream",
     "text": [
      "Model initialized:\n",
      "MLPPolicy(\n",
      "  (model): Sequential(\n",
      "    (0): Linear(in_features=4, out_features=128, bias=True)\n",
      "    (1): ReLU()\n",
      "    (2): Linear(in_features=128, out_features=128, bias=True)\n",
      "    (3): ReLU()\n",
      "    (4): Linear(in_features=128, out_features=2, bias=True)\n",
      "  )\n",
      ")\n"
     ]
    }
   ],
   "source": [
    "n_states = tmp_env.observation_space.shape[0]\n",
    "n_actions = tmp_env.action_space.n\n",
    "model = MLPPolicy(n_states, n_actions)\n",
    "#model = model.float()\n",
    "print(\"Model initialized:\")\n",
    "print(model)"
   ]
  },
  {
   "cell_type": "code",
   "execution_count": 161,
   "metadata": {},
   "outputs": [
    {
     "name": "stdout",
     "output_type": "stream",
     "text": [
      "last mean reward = 22.938\n"
     ]
    },
    {
     "data": {
      "image/png": "[encoded data removed]",
      "text/plain": [
       "<Figure size 800x400 with 2 Axes>"
      ]
     },
     "metadata": {},
     "output_type": "display_data"
    },
    {
     "name": "stdout",
     "output_type": "stream",
     "text": [
      "0.2866199016571045\n"
     ]
    }
   ],
   "source": [
    "algorithm = EvolutionManager(\n",
    "    get_env_function=get_env_function,  # Hàm tạo môi trường\n",
    "    lr=0.01,                           # Tốc độ học\n",
    "    std=0.1,                           # Độ lệch chuẩn của nhiễu\n",
    "    n_samples=64,                      # Số lượng mẫu nhiễu\n",
    "    normalize=True                     # Chuẩn hóa phần thưởng\n",
    ")\n",
    "np.bool8=np.bool_\n",
    "for i in range(15):\n",
    "    t = time.time()\n",
    "    algorithm.step(model)\n",
    "    print(time.time() - t)"
   ]
  },
  {
   "cell_type": "code",
   "execution_count": 144,
   "metadata": {},
   "outputs": [
    {
     "name": "stdout",
     "output_type": "stream",
     "text": [
      "Render returned invalid data: <class 'NoneType'>\n"
     ]
    },
    {
     "name": "stderr",
     "output_type": "stream",
     "text": [
      "c:\\Anaconda\\Lib\\site-packages\\gym\\envs\\classic_control\\cartpole.py:211: UserWarning: \u001b[33mWARN: You are calling render method without specifying any render mode. You can specify the render_mode at initialization, e.g. gym(\"CartPole-v0\", render_mode=\"rgb_array\")\u001b[0m\n",
      "  gym.logger.warn(\n"
     ]
    },
    {
     "data": {
      "text/plain": [
       "1.0"
      ]
     },
     "execution_count": 144,
     "metadata": {},
     "output_type": "execute_result"
    }
   ],
   "source": [
    "display_session(tmp_env, model, t_max=500)"
   ]
  },
  {
   "cell_type": "markdown",
   "metadata": {},
   "source": [
    "#### Task 3: Implement and compare the parallelized version of the algorithm"
   ]
  },
  {
   "cell_type": "code",
   "execution_count": 111,
   "metadata": {},
   "outputs": [
    {
     "ename": "SyntaxError",
     "evalue": "invalid syntax (257244038.py, line 1)",
     "output_type": "error",
     "traceback": [
      "\u001b[1;36m  Cell \u001b[1;32mIn[111], line 1\u001b[1;36m\u001b[0m\n\u001b[1;33m    model = <>\u001b[0m\n\u001b[1;37m            ^\u001b[0m\n\u001b[1;31mSyntaxError\u001b[0m\u001b[1;31m:\u001b[0m invalid syntax\n"
     ]
    }
   ],
   "source": [
    "model = <>"
   ]
  },
  {
   "cell_type": "code",
   "execution_count": null,
   "metadata": {},
   "outputs": [
    {
     "name": "stdout",
     "output_type": "stream",
     "text": [
      "last mean reward = 353.210\n"
     ]
    },
    {
     "data": {
      "image/png": "[encoded data removed]",
      "text/plain": [
       "<Figure size 576x288 with 2 Axes>"
      ]
     },
     "metadata": {
      "needs_background": "light"
     },
     "output_type": "display_data"
    },
    {
     "name": "stdout",
     "output_type": "stream",
     "text": [
      "26.267060041427612\n"
     ]
    }
   ],
   "source": [
    "algorithm = <>\n",
    "\n",
    "for i in range(15):\n",
    "    t = time.time()\n",
    "    algorithm.step(model)\n",
    "    print(time.time() - t)"
   ]
  },
  {
   "cell_type": "markdown",
   "metadata": {},
   "source": [
    "### Environment 2: LunarLanderContinuous-v2"
   ]
  },
  {
   "cell_type": "code",
   "execution_count": null,
   "metadata": {},
   "outputs": [
    {
     "name": "stdout",
     "output_type": "stream",
     "text": [
      "Processing c:\\downloads\\box2d-2.3.10-cp312-cp312-win_amd64.whl\n"
     ]
    },
    {
     "name": "stderr",
     "output_type": "stream",
     "text": [
      "WARNING: Requirement 'C:\\\\Downloads\\\\Box2D-2.3.10-cp312-cp312-win_amd64.whl' looks like a filename, but the file does not exist\n",
      "ERROR: Could not install packages due to an OSError: [Errno 2] No such file or directory: 'C:\\\\Downloads\\\\Box2D-2.3.10-cp312-cp312-win_amd64.whl'\n",
      "\n"
     ]
    }
   ],
   "source": [
    "c:\\Anaconda\\python.exe -m pip install C:\\Users\\ADMIN\\Downloads\\Box2D-2.3.10-cp312-cp312-win_amd64.whl\n"
   ]
  },
  {
   "cell_type": "code",
   "execution_count": 165,
   "metadata": {},
   "outputs": [
    {
     "ename": "IndexError",
     "evalue": "invalid index to scalar variable.",
     "output_type": "error",
     "traceback": [
      "\u001b[1;31m---------------------------------------------------------------------------\u001b[0m",
      "\u001b[1;31mIndexError\u001b[0m                                Traceback (most recent call last)",
      "Cell \u001b[1;32mIn[165], line 11\u001b[0m\n\u001b[0;32m      8\u001b[0m algorithm \u001b[38;5;241m=\u001b[39m EvolutionManager(get_env_function, lr\u001b[38;5;241m=\u001b[39m\u001b[38;5;241m0.01\u001b[39m, std\u001b[38;5;241m=\u001b[39m\u001b[38;5;241m0.1\u001b[39m, n_samples\u001b[38;5;241m=\u001b[39m\u001b[38;5;241m64\u001b[39m, normalize\u001b[38;5;241m=\u001b[39m\u001b[38;5;28;01mTrue\u001b[39;00m)\n\u001b[0;32m     10\u001b[0m \u001b[38;5;28;01mfor\u001b[39;00m i \u001b[38;5;129;01min\u001b[39;00m \u001b[38;5;28mrange\u001b[39m(\u001b[38;5;241m1000\u001b[39m):\n\u001b[1;32m---> 11\u001b[0m     algorithm\u001b[38;5;241m.\u001b[39mstep(model)\n",
      "Cell \u001b[1;32mIn[150], line 51\u001b[0m, in \u001b[0;36mEvolutionManager.step\u001b[1;34m(self, model)\u001b[0m\n\u001b[0;32m     49\u001b[0m \u001b[38;5;28;01mfor\u001b[39;00m _ \u001b[38;5;129;01min\u001b[39;00m \u001b[38;5;28mrange\u001b[39m(\u001b[38;5;28mself\u001b[39m\u001b[38;5;241m.\u001b[39mn_samples):\n\u001b[0;32m     50\u001b[0m     noised_model, noise \u001b[38;5;241m=\u001b[39m \u001b[38;5;28mself\u001b[39m\u001b[38;5;241m.\u001b[39mget_noised_model(model)\n\u001b[1;32m---> 51\u001b[0m     reward \u001b[38;5;241m=\u001b[39m generate_session(\u001b[38;5;28mself\u001b[39m\u001b[38;5;241m.\u001b[39menv, noised_model)\n\u001b[0;32m     52\u001b[0m     noises\u001b[38;5;241m.\u001b[39mappend(noise)\n\u001b[0;32m     53\u001b[0m     rewards\u001b[38;5;241m.\u001b[39mappend(reward)\n",
      "Cell \u001b[1;32mIn[148], line 13\u001b[0m, in \u001b[0;36mgenerate_session\u001b[1;34m(env, agent, t_max)\u001b[0m\n\u001b[0;32m     10\u001b[0m a \u001b[38;5;241m=\u001b[39m agent\u001b[38;5;241m.\u001b[39mget_action(state_tensor)\n\u001b[0;32m     12\u001b[0m \u001b[38;5;66;03m# Thực hiện bước trong môi trường\u001b[39;00m\n\u001b[1;32m---> 13\u001b[0m new_s, r, terminated, truncated, info \u001b[38;5;241m=\u001b[39m env\u001b[38;5;241m.\u001b[39mstep(a)\n\u001b[0;32m     14\u001b[0m total_reward \u001b[38;5;241m+\u001b[39m\u001b[38;5;241m=\u001b[39m r\n\u001b[0;32m     16\u001b[0m \u001b[38;5;66;03m# Xử lý new_s nếu cần\u001b[39;00m\n",
      "File \u001b[1;32mc:\\Anaconda\\Lib\\site-packages\\gym\\wrappers\\order_enforcing.py:37\u001b[0m, in \u001b[0;36mOrderEnforcing.step\u001b[1;34m(self, action)\u001b[0m\n\u001b[0;32m     35\u001b[0m \u001b[38;5;28;01mif\u001b[39;00m \u001b[38;5;129;01mnot\u001b[39;00m \u001b[38;5;28mself\u001b[39m\u001b[38;5;241m.\u001b[39m_has_reset:\n\u001b[0;32m     36\u001b[0m     \u001b[38;5;28;01mraise\u001b[39;00m ResetNeeded(\u001b[38;5;124m\"\u001b[39m\u001b[38;5;124mCannot call env.step() before calling env.reset()\u001b[39m\u001b[38;5;124m\"\u001b[39m)\n\u001b[1;32m---> 37\u001b[0m \u001b[38;5;28;01mreturn\u001b[39;00m \u001b[38;5;28mself\u001b[39m\u001b[38;5;241m.\u001b[39menv\u001b[38;5;241m.\u001b[39mstep(action)\n",
      "File \u001b[1;32mc:\\Anaconda\\Lib\\site-packages\\gym\\wrappers\\env_checker.py:37\u001b[0m, in \u001b[0;36mPassiveEnvChecker.step\u001b[1;34m(self, action)\u001b[0m\n\u001b[0;32m     35\u001b[0m \u001b[38;5;28;01mif\u001b[39;00m \u001b[38;5;28mself\u001b[39m\u001b[38;5;241m.\u001b[39mchecked_step \u001b[38;5;129;01mis\u001b[39;00m \u001b[38;5;28;01mFalse\u001b[39;00m:\n\u001b[0;32m     36\u001b[0m     \u001b[38;5;28mself\u001b[39m\u001b[38;5;241m.\u001b[39mchecked_step \u001b[38;5;241m=\u001b[39m \u001b[38;5;28;01mTrue\u001b[39;00m\n\u001b[1;32m---> 37\u001b[0m     \u001b[38;5;28;01mreturn\u001b[39;00m env_step_passive_checker(\u001b[38;5;28mself\u001b[39m\u001b[38;5;241m.\u001b[39menv, action)\n\u001b[0;32m     38\u001b[0m \u001b[38;5;28;01melse\u001b[39;00m:\n\u001b[0;32m     39\u001b[0m     \u001b[38;5;28;01mreturn\u001b[39;00m \u001b[38;5;28mself\u001b[39m\u001b[38;5;241m.\u001b[39menv\u001b[38;5;241m.\u001b[39mstep(action)\n",
      "File \u001b[1;32mc:\\Anaconda\\Lib\\site-packages\\gym\\utils\\passive_env_checker.py:214\u001b[0m, in \u001b[0;36menv_step_passive_checker\u001b[1;34m(env, action)\u001b[0m\n\u001b[0;32m    212\u001b[0m \u001b[38;5;250m\u001b[39m\u001b[38;5;124;03m\"\"\"A passive check for the environment step, investigating the returning data then returning the data unchanged.\"\"\"\u001b[39;00m\n\u001b[0;32m    213\u001b[0m \u001b[38;5;66;03m# We don't check the action as for some environments then out-of-bounds values can be given\u001b[39;00m\n\u001b[1;32m--> 214\u001b[0m result \u001b[38;5;241m=\u001b[39m env\u001b[38;5;241m.\u001b[39mstep(action)\n\u001b[0;32m    215\u001b[0m \u001b[38;5;28;01massert\u001b[39;00m \u001b[38;5;28misinstance\u001b[39m(\n\u001b[0;32m    216\u001b[0m     result, \u001b[38;5;28mtuple\u001b[39m\n\u001b[0;32m    217\u001b[0m ), \u001b[38;5;124mf\u001b[39m\u001b[38;5;124m\"\u001b[39m\u001b[38;5;124mExpects step result to be a tuple, actual type: \u001b[39m\u001b[38;5;132;01m{\u001b[39;00m\u001b[38;5;28mtype\u001b[39m(result)\u001b[38;5;132;01m}\u001b[39;00m\u001b[38;5;124m\"\u001b[39m\n\u001b[0;32m    218\u001b[0m \u001b[38;5;28;01mif\u001b[39;00m \u001b[38;5;28mlen\u001b[39m(result) \u001b[38;5;241m==\u001b[39m \u001b[38;5;241m4\u001b[39m:\n",
      "File \u001b[1;32mc:\\Anaconda\\Lib\\site-packages\\gym\\envs\\box2d\\lunar_lander.py:492\u001b[0m, in \u001b[0;36mLunarLander.step\u001b[1;34m(self, action)\u001b[0m\n\u001b[0;32m    489\u001b[0m dispersion \u001b[38;5;241m=\u001b[39m [\u001b[38;5;28mself\u001b[39m\u001b[38;5;241m.\u001b[39mnp_random\u001b[38;5;241m.\u001b[39muniform(\u001b[38;5;241m-\u001b[39m\u001b[38;5;241m1.0\u001b[39m, \u001b[38;5;241m+\u001b[39m\u001b[38;5;241m1.0\u001b[39m) \u001b[38;5;241m/\u001b[39m SCALE \u001b[38;5;28;01mfor\u001b[39;00m _ \u001b[38;5;129;01min\u001b[39;00m \u001b[38;5;28mrange\u001b[39m(\u001b[38;5;241m2\u001b[39m)]\n\u001b[0;32m    491\u001b[0m m_power \u001b[38;5;241m=\u001b[39m \u001b[38;5;241m0.0\u001b[39m\n\u001b[1;32m--> 492\u001b[0m \u001b[38;5;28;01mif\u001b[39;00m (\u001b[38;5;28mself\u001b[39m\u001b[38;5;241m.\u001b[39mcontinuous \u001b[38;5;129;01mand\u001b[39;00m action[\u001b[38;5;241m0\u001b[39m] \u001b[38;5;241m>\u001b[39m \u001b[38;5;241m0.0\u001b[39m) \u001b[38;5;129;01mor\u001b[39;00m (\n\u001b[0;32m    493\u001b[0m     \u001b[38;5;129;01mnot\u001b[39;00m \u001b[38;5;28mself\u001b[39m\u001b[38;5;241m.\u001b[39mcontinuous \u001b[38;5;129;01mand\u001b[39;00m action \u001b[38;5;241m==\u001b[39m \u001b[38;5;241m2\u001b[39m\n\u001b[0;32m    494\u001b[0m ):\n\u001b[0;32m    495\u001b[0m     \u001b[38;5;66;03m# Main engine\u001b[39;00m\n\u001b[0;32m    496\u001b[0m     \u001b[38;5;28;01mif\u001b[39;00m \u001b[38;5;28mself\u001b[39m\u001b[38;5;241m.\u001b[39mcontinuous:\n\u001b[0;32m    497\u001b[0m         m_power \u001b[38;5;241m=\u001b[39m (np\u001b[38;5;241m.\u001b[39mclip(action[\u001b[38;5;241m0\u001b[39m], \u001b[38;5;241m0.0\u001b[39m, \u001b[38;5;241m1.0\u001b[39m) \u001b[38;5;241m+\u001b[39m \u001b[38;5;241m1.0\u001b[39m) \u001b[38;5;241m*\u001b[39m \u001b[38;5;241m0.5\u001b[39m  \u001b[38;5;66;03m# 0.5..1.0\u001b[39;00m\n",
      "\u001b[1;31mIndexError\u001b[0m: invalid index to scalar variable."
     ]
    }
   ],
   "source": [
    "def get_env_function():\n",
    "    env = gym.make('LunarLanderContinuous-v2').env\n",
    "    return env\n",
    "tmp_env = get_env_function()\n",
    "n_states = tmp_env.observation_space.shape[0]\n",
    "n_actions = tmp_env.action_space.shape[0]\n",
    "model = MLPPolicy(n_states, n_actions)\n",
    "algorithm = EvolutionManager(get_env_function, lr=0.01, std=0.1, n_samples=64, normalize=True)\n",
    "\n",
    "for i in range(1000):\n",
    "    algorithm.step(model)"
   ]
  },
  {
   "cell_type": "code",
   "execution_count": null,
   "metadata": {},
   "outputs": [
    {
     "data": {
      "text/plain": [
       "297.1928817226966"
      ]
     },
     "execution_count": 17,
     "metadata": {},
     "output_type": "execute_result"
    },
    {
     "data": {
      "image/png": "[encoded data removed]",
      "text/plain": [
       "<Figure size 288x216 with 1 Axes>"
      ]
     },
     "metadata": {
      "needs_background": "light"
     },
     "output_type": "display_data"
    }
   ],
   "source": [
    "display_session(tmp_env, model, t_max=500)"
   ]
  },
  {
   "cell_type": "markdown",
   "metadata": {},
   "source": [
    "### Task 3: Hyperparameter's analysis"
   ]
  },
  {
   "cell_type": "markdown",
   "metadata": {},
   "source": [
    "Now we are going to do some experimental analysis of the algorithm.\n",
    "\n",
    "Plan:\n",
    "- to learn something about the *std* parameter\n",
    "- to learn something about the *learning rate* parameter\n",
    "- to learn something about the *n_samples* parameter"
   ]
  },
  {
   "cell_type": "code",
   "execution_count": null,
   "metadata": {},
   "outputs": [],
   "source": []
  }
 ],
 "metadata": {
  "kernelspec": {
   "display_name": "base",
   "language": "python",
   "name": "python3"
  },
  "language_info": {
   "codemirror_mode": {
    "name": "ipython",
    "version": 3
   },
   "file_extension": ".py",
   "mimetype": "text/x-python",
   "name": "python",
   "nbconvert_exporter": "python",
   "pygments_lexer": "ipython3",
   "version": "3.12.7"
  }
 },
 "nbformat": 4,
 "nbformat_minor": 2
}
