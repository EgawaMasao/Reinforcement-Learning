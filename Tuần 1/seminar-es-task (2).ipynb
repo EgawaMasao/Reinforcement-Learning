{
 "cells": [
  {
   "cell_type": "markdown",
   "metadata": {},
   "source": [
    "## Evolution Strategies\n",
    "\n",
    "![img](https://t4.ftcdn.net/jpg/00/17/46/81/240_F_17468143_wY3hsHyfNYoMdG9BlC56HI4JA7pNu63h.jpg)\n",
    "\n",
    "[The paper about the algorithm](https://arxiv.org/abs/1703.03864)\n",
    "\n",
    "Plan:\n",
    "* Study how to use OpenAI gym\n",
    "* Basic prototype of evolutionary strategies that works in one thread on CartPole\n",
    "* Modify the code to make them work in parallel\n",
    "* Use the algorithm to solve the LunarLander\n",
    "* Analyse the influence of hyperparameters"
   ]
  },
  {
   "cell_type": "code",
   "execution_count": 1,
   "metadata": {},
   "outputs": [
    {
     "name": "stderr",
     "output_type": "stream",
     "text": [
      "'bash' is not recognized as an internal or external command,\n",
      "operable program or batch file.\n"
     ]
    }
   ],
   "source": [
    "import sys, os\n",
    "if 'google.colab' in sys.modules and not os.path.exists('.setup_complete'):\n",
    "    !wget -q https://raw.githubusercontent.com/yandexdataschool/Practical_RL/master/setup_colab.sh -O- | bash\n",
    "\n",
    "    !touch .setup_complete\n",
    "\n",
    "# This code creates a virtual display to draw game images on.\n",
    "# It will have no effect if your machine has a monitor.\n",
    "if type(os.environ.get(\"DISPLAY\")) is not str or len(os.environ.get(\"DISPLAY\")) == 0:\n",
    "    !bash ../xvfb start\n",
    "    os.environ['DISPLAY'] = ':1'"
   ]
  },
  {
   "cell_type": "code",
   "execution_count": 101,
   "metadata": {},
   "outputs": [],
   "source": [
    "import numpy as np\n",
    "import matplotlib.pyplot as plt\n",
    "\n",
    "import torch\n",
    "import torch.nn as nn\n",
    "import time\n",
    "from copy import deepcopy\n",
    "from joblib import Parallel, delayed\n",
    "from IPython.display import clear_output\n",
    "from IPython import display\n",
    " \n",
    "%matplotlib inline"
   ]
  },
  {
   "cell_type": "markdown",
   "metadata": {},
   "source": [
    "# OpenAI gym environment"
   ]
  },
  {
   "cell_type": "code",
   "execution_count": 102,
   "metadata": {},
   "outputs": [
    {
     "name": "stdout",
     "output_type": "stream",
     "text": [
      "Observation space: Box([-4.8000002e+00 -3.4028235e+38 -4.1887903e-01 -3.4028235e+38], [4.8000002e+00 3.4028235e+38 4.1887903e-01 3.4028235e+38], (4,), float32)\n",
      "Action space: Discrete(2)\n"
     ]
    },
    {
     "data": {
      "image/png": "[encoded data removed]",
      "text/plain": [
       "<Figure size 640x480 with 1 Axes>"
      ]
     },
     "metadata": {},
     "output_type": "display_data"
    }
   ],
   "source": [
    "import gym\n",
    "\n",
    "tmp_env = gym.make(\"CartPole-v0\",render_mode='rgb_array')\n",
    "tmp_env.reset()\n",
    "\n",
    "plt.imshow(tmp_env.render())\n",
    "print(\"Observation space:\", tmp_env.observation_space)\n",
    "print(\"Action space:\", tmp_env.action_space)\n",
    "state_size = tmp_env.observation_space.shape[0]\n",
    "n_actions = tmp_env.action_space.n"
   ]
  },
  {
   "cell_type": "markdown",
   "metadata": {},
   "source": [
    "### How to interact with the environment"
   ]
  },
  {
   "cell_type": "code",
   "execution_count": 103,
   "metadata": {},
   "outputs": [
    {
     "name": "stdout",
     "output_type": "stream",
     "text": [
      "Initial observation: (array([ 0.02108401,  0.03961739, -0.00751504, -0.0110166 ], dtype=float32), {})\n",
      "At each step it returns:\n",
      "new observation code: [ 0.02187635 -0.15539598 -0.00773538  0.2792858 ]\n",
      "reward: 1.0\n",
      "is game over?: False\n",
      "is game over?: False\n"
     ]
    }
   ],
   "source": [
    "print(\"Initial observation:\", tmp_env.reset())\n",
    "\n",
    "#new_s, reward,truncated,done,info = tmp_env.step(0)\n",
    "new_state, reward, terminated, truncated, info= tmp_env.step(0)\n",
    "print(\"At each step it returns:\")\n",
    "\n",
    "print(\"new observation code:\", new_state)\n",
    "print(\"reward:\", reward)\n",
    "print(\"is game over?:\", truncated)\n",
    "print(\"is game over?:\", terminated)"
   ]
  },
  {
   "cell_type": "markdown",
   "metadata": {},
   "source": []
  },
  {
   "cell_type": "markdown",
   "metadata": {},
   "source": [
    "### Display an episode"
   ]
  },
  {
   "cell_type": "code",
   "execution_count": 104,
   "metadata": {},
   "outputs": [],
   "source": [
    "def display_session(env, agent, t_max=500):\n",
    "    total_reward = 0\n",
    "    plt.figure(figsize=(4, 3))\n",
    "    display.clear_output(wait=True)\n",
    "\n",
    "    s = env.reset()\n",
    "    if isinstance(s, tuple):  # Nếu trạng thái trả về là tuple (state, info)\n",
    "        s = s[0]\n",
    "    s = np.array(s)  # Chuyển đổi trạng thái thành mảng NumPy nếu cần\n",
    "\n",
    "    for t in range(t_max):\n",
    "        plt.gca().clear()\n",
    "\n",
    "        a = agent.get_action(torch.tensor(s).float())\n",
    "        new_s, r, terminated, truncated, info = env.step(a)\n",
    "        s = new_s\n",
    "        total_reward += r\n",
    "\n",
    "        # Kiểm tra dữ liệu từ env.render()\n",
    "        frame = env.render()\n",
    "        if isinstance(frame, np.ndarray):\n",
    "            plt.imshow(frame)\n",
    "        else:\n",
    "            print(\"Render returned invalid data:\", type(frame))\n",
    "            break\n",
    "\n",
    "        display.display(plt.gcf())\n",
    "        display.clear_output(wait=True)\n",
    "\n",
    "        if truncated or terminated:\n",
    "            break\n",
    "            \n",
    "    return total_reward"
   ]
  },
  {
   "cell_type": "markdown",
   "metadata": {},
   "source": [
    "### Random policy"
   ]
  },
  {
   "cell_type": "code",
   "execution_count": 105,
   "metadata": {},
   "outputs": [],
   "source": [
    "class RandomPolicy:\n",
    "    def __init__(self, n_actions):\n",
    "        \"\"\"\n",
    "        Khởi tạo chính sách ngẫu nhiên với số lượng hành động.\n",
    "        :param n_actions: Số lượng hành động có thể thực hiện.\n",
    "        \"\"\"\n",
    "        self.n_actions = n_actions\n",
    "\n",
    "    def get_action(self, state):\n",
    "        \"\"\"\n",
    "        Trả về một hành động ngẫu nhiên.\n",
    "        :param state: Trạng thái hiện tại của môi trường (không sử dụng trong chính sách ngẫu nhiên).\n",
    "        :return: Một hành động ngẫu nhiên.\n",
    "        \"\"\"\n",
    "        return np.random.choice(self.n_actions)\n",
    "    #pass"
   ]
  },
  {
   "cell_type": "code",
   "execution_count": 106,
   "metadata": {},
   "outputs": [
    {
     "name": "stdout",
     "output_type": "stream",
     "text": [
      "Total reward:  31.0\n"
     ]
    },
    {
     "data": {
      "image/png": "[encoded data removed]",
      "text/plain": [
       "<Figure size 400x300 with 1 Axes>"
      ]
     },
     "metadata": {},
     "output_type": "display_data"
    }
   ],
   "source": [
    "total_reward = display_session(tmp_env, RandomPolicy(n_actions))\n",
    "print('Total reward: ', total_reward)"
   ]
  },
  {
   "cell_type": "markdown",
   "metadata": {},
   "source": [
    "# The challenge of the day"
   ]
  },
  {
   "cell_type": "markdown",
   "metadata": {},
   "source": [
    "![Algorithm](https://i.ibb.co/zFm6BrB/Screenshot-from-2021-09-17-13-38-00.png)"
   ]
  },
  {
   "cell_type": "markdown",
   "metadata": {},
   "source": [
    "### Model evaluation"
   ]
  },
  {
   "cell_type": "code",
   "execution_count": 107,
   "metadata": {},
   "outputs": [],
   "source": [
    "def generate_session(env, agent, t_max=500):\n",
    "    total_reward = 0\n",
    "    s = env.reset()\n",
    "    if isinstance(s, tuple):\n",
    "        s = s[0]\n",
    "    s = np.array(s)  # Đảm bảo s là mảng NumPy\n",
    "    for t in range(t_max):\n",
    "         # Chuyển đổi state thành tensor\n",
    "        state_tensor = torch.tensor(s, dtype=torch.float32)\n",
    "        a = agent.get_action(state_tensor)\n",
    "        \n",
    "        # Thực hiện bước trong môi trường\n",
    "        new_s, r, terminated, truncated, info = env.step(a)\n",
    "        total_reward += r\n",
    "        \n",
    "        # Xử lý new_s nếu cần\n",
    "        if isinstance(new_s, tuple):\n",
    "            new_s = new_s[0]\n",
    "        s = np.array(new_s)\n",
    "        if terminated or truncated:\n",
    "            break\n",
    "            \n",
    "    return total_reward\n",
    "\n",
    "\n",
    "def score(env, agent, n=10, t_max=500):\n",
    "    pass"
   ]
  },
  {
   "cell_type": "markdown",
   "metadata": {},
   "source": [
    "### Modification of the model using a noise "
   ]
  },
  {
   "cell_type": "code",
   "execution_count": 108,
   "metadata": {},
   "outputs": [],
   "source": [
    "def add_noise_to_model(model, noise, copy=False):\n",
    "    \"\"\"\n",
    "    Thêm nhiễu vào các tham số của mô hình.\n",
    "    \n",
    "    :param model: Mô hình PyTorch (torch.nn.Module).\n",
    "    :param noise: Nhiễu (dạng tensor hoặc mảng NumPy) có cùng kích thước với các tham số của mô hình.\n",
    "    :param copy: Nếu True, trả về một bản sao của mô hình với nhiễu được thêm vào.\n",
    "                 Nếu False, thay đổi trực tiếp mô hình ban đầu.\n",
    "    :return: Mô hình với nhiễu được thêm vào (nếu copy=True).\n",
    "    \"\"\"\n",
    "    if copy:\n",
    "        # Tạo một bản sao của mô hình\n",
    "        model = deepcopy(model)\n",
    "    \n",
    "    # Thêm nhiễu vào các tham số của mô hình\n",
    "    with torch.no_grad():\n",
    "        for param, noise_param in zip(model.parameters(), noise):\n",
    "            param.add_(noise_param)\n",
    "    \n",
    "    if copy:\n",
    "        return model\n",
    "    #pass"
   ]
  },
  {
   "cell_type": "markdown",
   "metadata": {},
   "source": [
    "### Controller of the evolution\n",
    "\n",
    "#### Task 1: Implement the algorithm"
   ]
  },
  {
   "cell_type": "code",
   "execution_count": 109,
   "metadata": {},
   "outputs": [],
   "source": [
    "class EvolutionManager:\n",
    "    def __init__(self, get_env_function, lr=0.001, std=0.01, n_samples = 64, normalize=True):\n",
    "        super().__init__()\n",
    "        \n",
    "        self.lr = lr\n",
    "        self.std = std\n",
    "        self.normalize = normalize\n",
    "        self.n_samples = n_samples\n",
    "        self.mean_reward_history = []\n",
    "        \n",
    "        self.env = get_env_function()\n",
    "        \n",
    "    def get_noised_model(self, model):\n",
    "        \"\"\"\n",
    "        Tạo các bản sao của mô hình với nhiễu Gaussian.\n",
    "        :param model: Mô hình PyTorch ban đầu.\n",
    "        :return: Danh sách các mô hình với nhiễu được thêm vào.\n",
    "        \"\"\"\n",
    "        noises = [torch.randn_like(param) * self.std for param in model.parameters()]\n",
    "        noised_model = add_noise_to_model(model, noises, copy=True)\n",
    "        return noised_model, noises\n",
    "        #pass\n",
    "\n",
    "    def optimize(self, model, noises, rewards):\n",
    "        \"\"\"\n",
    "        Tối ưu hóa mô hình dựa trên phần thưởng và nhiễu.\n",
    "        :param model: Mô hình PyTorch ban đầu.\n",
    "        :param noises: Danh sách nhiễu đã thêm vào mô hình.\n",
    "        :param rewards: Danh sách phần thưởng tương ứng với các mô hình nhiễu.\n",
    "        \"\"\"\n",
    "        if self.normalize:\n",
    "            rewards = (rewards - np.mean(rewards)) / (np.std(rewards) + 1e-8)\n",
    "        \n",
    "        with torch.no_grad():\n",
    "            for param, noise in zip(model.parameters(), zip(*noises)):\n",
    "                gradient = np.mean([r * n for r, n in zip(rewards, noise)], axis=0)\n",
    "                param.add_(self.lr * torch.tensor(gradient, dtype=param.dtype))\n",
    "        #pass\n",
    "    \n",
    "    def step(self, model):\n",
    "        \"\"\"\n",
    "        Thực hiện một bước của chiến lược tiến hóa.\n",
    "        :param model: Mô hình PyTorch ban đầu.\n",
    "        \"\"\"\n",
    "        noises = []\n",
    "        rewards = []\n",
    "        \n",
    "        # Tạo các mô hình nhiễu và tính phần thưởng\n",
    "        for _ in range(self.n_samples):\n",
    "            noised_model, noise = self.get_noised_model(model)\n",
    "            reward = generate_session(self.env, noised_model)\n",
    "            noises.append(noise)\n",
    "            rewards.append(reward)\n",
    "        \n",
    "        # Tối ưu hóa mô hình\n",
    "        self.optimize(model, noises, rewards)\n",
    "        \n",
    "        # Cập nhật log\n",
    "        self.update_log(rewards)\n",
    "        #pass\n",
    "        \n",
    "    def update_log(self, rewards):\n",
    "        \"\"\"\n",
    "        Cập nhật log phần thưởng.\n",
    "        :param rewards: Danh sách phần thưởng.\n",
    "        \"\"\"\n",
    "        mean_reward = np.mean(rewards)\n",
    "        self.mean_reward_history.append(mean_reward)\n",
    "\n",
    "        clear_output(True)\n",
    "        print(\"last mean reward = %.3f\" % mean_reward)\n",
    "        plt.figure(figsize=[8, 4])\n",
    "        plt.subplot(1, 2, 1)\n",
    "        plt.plot(self.mean_reward_history, label='Mean rewards')\n",
    "        plt.legend()\n",
    "        plt.grid()\n",
    "\n",
    "        plt.subplot(1, 2, 2)\n",
    "        plt.hist(rewards)\n",
    "        plt.grid()\n",
    "\n",
    "        plt.show()\n",
    "    "
   ]
  },
  {
   "cell_type": "markdown",
   "metadata": {},
   "source": [
    "#### Task 2: Implement a neural network-based policy"
   ]
  },
  {
   "cell_type": "markdown",
   "metadata": {},
   "source": [
    "### Neural policy"
   ]
  },
  {
   "cell_type": "code",
   "execution_count": 110,
   "metadata": {},
   "outputs": [],
   "source": [
    "class MLPPolicy(nn.Module):\n",
    "    def __init__(self, input_dim, output_dim, hidden_dim=128):\n",
    "        \"\"\"\n",
    "        Khởi tạo mạng nơ-ron chính sách.\n",
    "        :param input_dim: Số chiều của đầu vào (state size).\n",
    "        :param output_dim: Số chiều của đầu ra (action size).\n",
    "        :param hidden_dim: Số lượng neuron trong lớp ẩn.\n",
    "        \"\"\"\n",
    "        super(MLPPolicy, self).__init__()\n",
    "        self.model = nn.Sequential(\n",
    "            nn.Linear(input_dim, hidden_dim),\n",
    "            nn.ReLU(),\n",
    "            nn.Linear(hidden_dim, hidden_dim),\n",
    "            nn.ReLU(),\n",
    "            nn.Linear(hidden_dim, output_dim)\n",
    "        )\n",
    "    \n",
    "    def forward(self, x):\n",
    "        \"\"\"\n",
    "        Tính toán đầu ra của mạng nơ-ron.\n",
    "        :param x: Đầu vào (state).\n",
    "        :return: Đầu ra (logits hoặc xác suất hành động).\n",
    "        \"\"\"\n",
    "        return self.model(x)\n",
    "    \n",
    "    def get_action(self, state):\n",
    "        \"\"\"\n",
    "        Lấy hành động dựa trên trạng thái đầu vào.\n",
    "        :param state: Trạng thái hiện tại (tensor).\n",
    "        :return: Hành động được chọn (int).\n",
    "        \"\"\"\n",
    "        logits = self.forward(state)\n",
    "        action_probs = torch.softmax(logits, dim=-1)\n",
    "        action = torch.multinomial(action_probs, num_samples=1).item()\n",
    "        return action\n",
    "    #pass"
   ]
  },
  {
   "cell_type": "markdown",
   "metadata": {},
   "source": [
    "### Environment 1: CartPole-v0"
   ]
  },
  {
   "cell_type": "code",
   "execution_count": 111,
   "metadata": {},
   "outputs": [],
   "source": [
    "def get_env_function():\n",
    "    env = gym.make('CartPole-v0').env\n",
    "    return env\n",
    "tmp_env = get_env_function()"
   ]
  },
  {
   "cell_type": "code",
   "execution_count": 112,
   "metadata": {},
   "outputs": [
    {
     "name": "stdout",
     "output_type": "stream",
     "text": [
      "Model initialized:\n",
      "MLPPolicy(\n",
      "  (model): Sequential(\n",
      "    (0): Linear(in_features=4, out_features=128, bias=True)\n",
      "    (1): ReLU()\n",
      "    (2): Linear(in_features=128, out_features=128, bias=True)\n",
      "    (3): ReLU()\n",
      "    (4): Linear(in_features=128, out_features=2, bias=True)\n",
      "  )\n",
      ")\n"
     ]
    }
   ],
   "source": [
    "n_states = tmp_env.observation_space.shape[0]\n",
    "n_actions = tmp_env.action_space.n\n",
    "model = MLPPolicy(n_states, n_actions)\n",
    "#model = model.float()\n",
    "print(\"Model initialized:\")\n",
    "print(model)"
   ]
  },
  {
   "cell_type": "code",
   "execution_count": 113,
   "metadata": {},
   "outputs": [
    {
     "name": "stdout",
     "output_type": "stream",
     "text": [
      "last mean reward = 19.500\n"
     ]
    },
    {
     "data": {
      "image/png": "[encoded data removed]",
      "text/plain": [
       "<Figure size 800x400 with 2 Axes>"
      ]
     },
     "metadata": {},
     "output_type": "display_data"
    },
    {
     "name": "stdout",
     "output_type": "stream",
     "text": [
      "2.1773335933685303\n"
     ]
    }
   ],
   "source": [
    "algorithm = EvolutionManager(\n",
    "    get_env_function=get_env_function,  # Hàm tạo môi trường\n",
    "    lr=0.01,                           # Tốc độ học\n",
    "    std=0.1,                           # Độ lệch chuẩn của nhiễu\n",
    "    n_samples=64,                      # Số lượng mẫu nhiễu\n",
    "    normalize=True                     # Chuẩn hóa phần thưởng\n",
    ")\n",
    "np.bool8=np.bool_\n",
    "for i in range(15):\n",
    "    t = time.time()\n",
    "    algorithm.step(model)\n",
    "    print(time.time() - t)"
   ]
  },
  {
   "cell_type": "code",
   "execution_count": 114,
   "metadata": {},
   "outputs": [
    {
     "name": "stdout",
     "output_type": "stream",
     "text": [
      "Render returned invalid data: <class 'NoneType'>\n"
     ]
    },
    {
     "data": {
      "text/plain": [
       "1.0"
      ]
     },
     "execution_count": 114,
     "metadata": {},
     "output_type": "execute_result"
    },
    {
     "data": {
      "image/png": "[encoded data removed]",
      "text/plain": [
       "<Figure size 400x300 with 1 Axes>"
      ]
     },
     "metadata": {},
     "output_type": "display_data"
    }
   ],
   "source": [
    "display_session(tmp_env, model, t_max=500)"
   ]
  },
  {
   "cell_type": "markdown",
   "metadata": {},
   "source": [
    "#### Task 3: Implement and compare the parallelized version of the algorithm"
   ]
  },
  {
   "cell_type": "code",
   "execution_count": 115,
   "metadata": {},
   "outputs": [
    {
     "ename": "SyntaxError",
     "evalue": "invalid syntax (257244038.py, line 1)",
     "output_type": "error",
     "traceback": [
      "\u001b[1;36m  Cell \u001b[1;32mIn[115], line 1\u001b[1;36m\u001b[0m\n\u001b[1;33m    model = <>\u001b[0m\n\u001b[1;37m            ^\u001b[0m\n\u001b[1;31mSyntaxError\u001b[0m\u001b[1;31m:\u001b[0m invalid syntax\n"
     ]
    }
   ],
   "source": [
    "model = <>"
   ]
  },
  {
   "cell_type": "code",
   "execution_count": null,
   "metadata": {},
   "outputs": [
    {
     "name": "stdout",
     "output_type": "stream",
     "text": [
      "last mean reward = 353.210\n"
     ]
    },
    {
     "data": {
      "image/png": "[encoded data removed]",
      "text/plain": [
       "<Figure size 576x288 with 2 Axes>"
      ]
     },
     "metadata": {
      "needs_background": "light"
     },
     "output_type": "display_data"
    },
    {
     "name": "stdout",
     "output_type": "stream",
     "text": [
      "26.267060041427612\n"
     ]
    }
   ],
   "source": [
    "algorithm = <>\n",
    "\n",
    "for i in range(15):\n",
    "    t = time.time()\n",
    "    algorithm.step(model)\n",
    "    print(time.time() - t)"
   ]
  },
  {
   "cell_type": "markdown",
   "metadata": {},
   "source": [
    "### Environment 2: LunarLanderContinuous-v2"
   ]
  },
  {
   "cell_type": "code",
   "execution_count": null,
   "metadata": {},
   "outputs": [
    {
     "name": "stdout",
     "output_type": "stream",
     "text": [
      "last mean reward = 155.350\n"
     ]
    },
    {
     "data": {
      "image/png": "[encoded data removed]",
      "text/plain": [
       "<Figure size 576x288 with 2 Axes>"
      ]
     },
     "metadata": {
      "needs_background": "light"
     },
     "output_type": "display_data"
    }
   ],
   "source": [
    "def get_env_function():\n",
    "    env = gym.make('LunarLanderContinuous-v2').env\n",
    "    return env\n",
    "tmp_env = get_env_function()\n",
    "n_states = tmp_env.observation_space.shape[0]\n",
    "n_actions = tmp_env.action_space.shape[0]\n",
    "model = <>\n",
    "algorithm = <>\n",
    "for i in range(1000):\n",
    "    algorithm.step(model)"
   ]
  },
  {
   "cell_type": "code",
   "execution_count": null,
   "metadata": {},
   "outputs": [
    {
     "data": {
      "text/plain": [
       "297.1928817226966"
      ]
     },
     "execution_count": 17,
     "metadata": {},
     "output_type": "execute_result"
    },
    {
     "data": {
      "image/png": "[encoded data removed]",
      "text/plain": [
       "<Figure size 288x216 with 1 Axes>"
      ]
     },
     "metadata": {
      "needs_background": "light"
     },
     "output_type": "display_data"
    }
   ],
   "source": [
    "display_session(tmp_env, model, t_max=500)"
   ]
  },
  {
   "cell_type": "markdown",
   "metadata": {},
   "source": [
    "### Task 3: Hyperparameter's analysis"
   ]
  },
  {
   "cell_type": "markdown",
   "metadata": {},
   "source": [
    "Now we are going to do some experimental analysis of the algorithm.\n",
    "\n",
    "Plan:\n",
    "- to learn something about the *std* parameter\n",
    "- to learn something about the *learning rate* parameter\n",
    "- to learn something about the *n_samples* parameter"
   ]
  },
  {
   "cell_type": "code",
   "execution_count": null,
   "metadata": {},
   "outputs": [],
   "source": []
  }
 ],
 "metadata": {
  "kernelspec": {
   "display_name": "base",
   "language": "python",
   "name": "python3"
  },
  "language_info": {
   "codemirror_mode": {
    "name": "ipython",
    "version": 3
   },
   "file_extension": ".py",
   "mimetype": "text/x-python",
   "name": "python",
   "nbconvert_exporter": "python",
   "pygments_lexer": "ipython3",
   "version": "3.12.7"
  }
 },
 "nbformat": 4,
 "nbformat_minor": 2
}
