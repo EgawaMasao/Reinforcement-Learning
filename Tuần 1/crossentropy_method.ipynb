{
  "cells": [
    {
      "cell_type": "markdown",
      "metadata": {
        "id": "7XGyc-FCG35I"
      },
      "source": [
        "# Crossentropy method\n",
        "\n",
        "This notebook will teach you to solve reinforcement learning problems with crossentropy method. We'll follow-up by scaling everything up and using neural network policy."
      ]
    },
    {
      "cell_type": "code",
      "execution_count": 15,
      "metadata": {
        "id": "2jwz8moTG35K"
      },
      "outputs": [],
      "source": [
        "import sys, os\n",
        "if 'google.colab' in sys.modules and not os.path.exists('.setup_complete'):\n",
        "    !wget -q https://raw.githubusercontent.com/yandexdataschool/Practical_RL/master/setup_colab.sh -O- | bash\n",
        "    !touch .setup_complete\n",
        "\n",
        "# This code creates a virtual display to draw game images on.\n",
        "# It will have no effect if your machine has a monitor.\n",
        "if type(os.environ.get(\"DISPLAY\")) is not str or len(os.environ.get(\"DISPLAY\")) == 0:\n",
        "    !bash ../xvfb start\n",
        "    os.environ['DISPLAY'] = ':1'"
      ]
    },
    {
      "cell_type": "code",
      "execution_count": 16,
      "metadata": {
        "id": "oe7EKolvLC67"
      },
      "outputs": [
        {
          "name": "stdout",
          "output_type": "stream",
          "text": [
            "Requirement already satisfied: gymnasium[toy_text] in c:\\anaconda\\lib\\site-packages (1.1.1)\n",
            "Requirement already satisfied: numpy>=1.21.0 in c:\\anaconda\\lib\\site-packages (from gymnasium[toy_text]) (1.26.4)\n",
            "Requirement already satisfied: cloudpickle>=1.2.0 in c:\\anaconda\\lib\\site-packages (from gymnasium[toy_text]) (3.0.0)\n",
            "Requirement already satisfied: typing-extensions>=4.3.0 in c:\\anaconda\\lib\\site-packages (from gymnasium[toy_text]) (4.11.0)\n",
            "Requirement already satisfied: farama-notifications>=0.0.1 in c:\\anaconda\\lib\\site-packages (from gymnasium[toy_text]) (0.0.4)\n",
            "Requirement already satisfied: pygame>=2.1.3 in c:\\anaconda\\lib\\site-packages (from gymnasium[toy_text]) (2.6.1)\n"
          ]
        }
      ],
      "source": [
        "!pip install \"gymnasium[toy_text]\""
      ]
    },
    {
      "cell_type": "code",
      "execution_count": 28,
      "metadata": {
        "id": "ltjzx5AFG35K"
      },
      "outputs": [
        {
          "name": "stdout",
          "output_type": "stream",
          "text": [
            "(314, {'prob': 1.0, 'action_mask': array([1, 1, 0, 0, 0, 0], dtype=int8)})\n"
          ]
        },
        {
          "data": {
            "text/plain": [
              "<matplotlib.image.AxesImage at 0x1b6edca1eb0>"
            ]
          },
          "execution_count": 28,
          "metadata": {},
          "output_type": "execute_result"
        }
      ],
      "source": [
        "# tạo môi trường mô phỏng\n",
        "import gymnasium as gym\n",
        "# numpy để làm việc với các mảng và tính toán số học\n",
        "import numpy as np\n",
        "# vẽ đồ thị hiển thị hình ảnh\n",
        "import matplotlib.pyplot as plt\n",
        "\n",
        "# Bài toán taxi cần đón và trả khách đúng vị trí\n",
        "env = gym.make(\"Taxi-v3\", render_mode=\"rgb_array\")\n",
        "\n",
        "# đặt lại môi trường về trạng thái ban đầu\n",
        "print(env.reset(seed=0))\n",
        "plt.imshow(env.render())\n"
      ]
    },
    {
      "cell_type": "code",
      "execution_count": 29,
      "metadata": {
        "colab": {
          "base_uri": "https://localhost:8080/"
        },
        "id": "O6waF01eG35L",
        "outputId": "8ca46444-7a7f-4091-c50c-0cab96a995e9"
      },
      "outputs": [
        {
          "name": "stdout",
          "output_type": "stream",
          "text": [
            "n_states=500, n_actions=6\n"
          ]
        }
      ],
      "source": [
        "# Lấy số lượng trạng thái (states) có thể có trong môi trường `Taxi-v3`.\n",
        "# `env.observation_space.n` trả về số lượng trạng thái trong không gian quan sát (observation space).\n",
        "n_states = env.observation_space.n\n",
        "\n",
        "# Lấy số lượng hành động (actions) có thể thực hiện trong môi trường `Taxi-v3`.\n",
        "# 6 hành động bao gồm: đi lên, đi xuống, đi trái, đi phải, đón khách và trả khách.\n",
        "# `env.action_space.n` trả về số lượng hành động trong không gian hành động (action space).\n",
        "n_actions = env.action_space.n\n",
        "\n",
        "# In ra số lượng trạng thái và hành động để kiểm tra.\n",
        "# Ví dụ: \"n_states=500, n_actions=6\" (Taxi-v3 có 500 trạng thái và 6 hành động).\n",
        "print(f\"n_states={n_states}, n_actions={n_actions}\")\n"
      ]
    },
    {
      "cell_type": "markdown",
      "metadata": {
        "id": "IHXnU2QWG35L"
      },
      "source": [
        "# Create stochastic policy (Tạo chính sách ngẫu nhiên)\n",
        "\n",
        "This time our policy should be a probability distribution. \n",
        "- (Lần này, chính sách của chúng ta sẽ là một phân phối xác suất.)\n",
        "\n",
        "```policy[s,a] = P(take action a | in state s)```\n",
        "\n",
        "Since we still use integer state and action representations, you can use a 2-dimensional array to represent the policy.\n",
        "- (Vì chúng ta vẫn sử dụng các biểu diễn trạng thái và hành động dưới dạng số nguyên, bạn có thể sử dụng một mảng 2 chiều để biểu diễn chính sách.)\n",
        "\n",
        "Please initialize the policy __uniformly__, that is, probabililities of all actions should be equal.\n",
        "- (Hãy khởi tạo chính sách đồng đều, nghĩa là xác suất của tất cả các hành động phải bằng nhau.)"
      ]
    },
    {
      "cell_type": "code",
      "execution_count": 30,
      "metadata": {
        "id": "9qL5eW-rG35L"
      },
      "outputs": [],
      "source": [
        "def initialize_policy(n_states, n_actions):\n",
        "    ## Tạo một mảng với xác suất đồng đều\n",
        "    policy = np.full((n_states, n_actions), 1.0 / n_actions)\n",
        "    return policy\n",
        "\n",
        "# Chính sách này được biểu diễn dưới dạng một mảng 2 chiều (2D array) với kích thước [n_states, n_actions]\n",
        "policy = initialize_policy(n_states, n_actions)\n",
        "\n"
      ]
    },
    {
      "cell_type": "code",
      "execution_count": 31,
      "metadata": {
        "id": "G1SeRRGgG35L"
      },
      "outputs": [],
      "source": [
        "# Kiểm tra chính sách (policy) n_states có phải là mảng numpy và n_actions có phải là ma trận không\n",
        "assert type(policy) in (np.ndarray, np.matrix)\n",
        "\n",
        "# Kiểm tra tất cả phần tử trong mảng policy có bằng giá trị 1.0 / n_actions hay không.\n",
        "assert np.allclose(policy, 1.0 / n_actions)\n",
        "\n",
        "#\n",
        "assert np.allclose(np.sum(policy, axis=1), 1)\n"
      ]
    },
    {
      "cell_type": "markdown",
      "metadata": {
        "id": "9zR1fCUrG35L"
      },
      "source": [
        "# Play the game\n",
        "\n",
        "Just like before, but we also record all states and actions we took."
      ]
    },
    {
      "cell_type": "code",
      "execution_count": 32,
      "metadata": {
        "id": "d4v8WmvlG35L"
      },
      "outputs": [],
      "source": [
        "def generate_session(env, policy, t_max=10**4):\n",
        "    \"\"\"\n",
        "    Chơi game cho đến khi kết thúc hoặc đạt đến t_max bước.\n",
        "    :param policy: một mảng có kích thước [n_states, n_actions] chứa xác suất hành động\n",
        "    :returns: danh sách các trạng thái, danh sách các hành động và tổng phần thưởng\n",
        "    \"\"\"\n",
        "    states, actions = [], []  # Danh sách lưu trữ các trạng thái và hành động\n",
        "    total_reward = 0.0  # Tổng phần thưởng\n",
        "\n",
        "    s, _ = env.reset()  # Đặt lại môi trường về trạng thái ban đầu\n",
        "\n",
        "    for t in range(t_max):  # Lặp qua tối đa t_max bước\n",
        "        # Gợi ý: bạn có thể sử dụng np.random.choice để chọn hành động ngẫu nhiên\n",
        "        # https://numpy.org/doc/stable/reference/random/generated/numpy.random.choice.html\n",
        "\n",
        "        ##a = <YOUR CODE: sample action from policy>\n",
        "        \n",
        "        # Chọn một hành động ngẫu nhiên từ chính sách (policy) tại trạng thái hiện tại (s)\n",
        "        a = np.random.choice(n_actions, p=policy[s])\n",
        "\n",
        "        # Thực hiện hành động a và nhận thông tin từ môi trường\n",
        "        new_s, r, terminated, truncated, _ = env.step(a)\n",
        "\n",
        "        # Ghi lại thông tin trạng thái, hành động và phần thưởng\n",
        "        states.append(s)  # Lưu trạng thái hiện tại\n",
        "        actions.append(a)  # Lưu hành động đã thực hiện\n",
        "        total_reward += r  # Cộng dồn phần thưởng\n",
        "\n",
        "        s = new_s  # Cập nhật trạng thái mới\n",
        "        if terminated or truncated:  # Nếu trò chơi kết thúc hoặc bị cắt ngắn\n",
        "            break\n",
        "\n",
        "    return states, actions, total_reward  # Trả về danh sách trạng thái, hành động và tổng phần thưởng"
      ]
    },
    {
      "cell_type": "code",
      "execution_count": 33,
      "metadata": {
        "id": "a1EUUZ29G35M"
      },
      "outputs": [],
      "source": [
        "# Gọi hàm generate_session để tạo một phiên chơi\n",
        "s, a, r = generate_session(env, policy)\n",
        "\n",
        "# Kiểm tra kiểu dữ liệu của danh sách trạng thái (s) và danh sách hành động (a) phải là list\n",
        "assert type(s) == type(a) == list\n",
        "\n",
        "# Kiểm tra độ dài của danh sách trạng thái (s) và danh sách hành động (a) phải bằng nhau\n",
        "assert len(s) == len(a)\n",
        "\n",
        "# Kiểm tra kiểu dữ liệu của tổng phần thưởng (r) phải là float hoặc np.float64\n",
        "assert type(r) in [float, np.float64]"
      ]
    },
    {
      "cell_type": "code",
      "execution_count": 35,
      "metadata": {
        "id": "_5YEDTKnG35M"
      },
      "outputs": [
        {
          "data": {
            "image/png": "[encoded data removed]",
            "text/plain": [
              "<Figure size 640x480 with 1 Axes>"
            ]
          },
          "metadata": {},
          "output_type": "display_data"
        }
      ],
      "source": [
        "# Xem phân phối phần thưởng ban đầu\n",
        "import matplotlib.pyplot as plt\n",
        "%matplotlib inline\n",
        "## Tạo 200 phiên chơi thử để chạy t_max bằng 1000 bước\n",
        "sample_rewards = [generate_session(env, policy, t_max=1000)[-1] for _ in range(200)]\n",
        "# Vẽ biểu đồ histogram để hiển thị phân phối phần thưởng\n",
        "plt.hist(sample_rewards, bins=20, alpha=0.75, color='blue', edgecolor='black')\n",
        "# Vẽ đường thẳng biểu diễn phân vị thứ 50 (Median - trung vị)\n",
        "plt.vlines([np.percentile(sample_rewards, 50)], [0], [100], label=\"50'th percentile (Median)\", color='green', linestyle='dashed')\n",
        "# Vẽ đường thẳng biểu diễn phân vị thứ 90 (Top 10%)\n",
        "plt.vlines([np.percentile(sample_rewards, 90)], [0], [100], label=\"90'th percentile (Top 10%)\", color='red', linestyle='dashed')\n",
        "# Thêm tiêu đề cho biểu đồ\n",
        "plt.title(\"Phân phối phần thưởng qua các phiên chơi (Reward Distribution Across Sessions)\")\n",
        "# Nhãn trục x: Tổng điểm\n",
        "plt.xlabel(\"Tổng phần thưởng (Total Reward)\")\n",
        "# Nhãn trục y: Tần suất đạt được điểm\n",
        "plt.ylabel(\"Tần suất (Frequency)\")\n",
        "# Hiển thị chú thích (legend) cho các đường phân vị\n",
        "plt.legend()\n",
        "# Thêm lưới ngang để dễ quan sát\n",
        "plt.grid(axis='y', linestyle='--', alpha=0.7)\n",
        "# Hiển thị biểu đồ\n",
        "plt.show()"
      ]
    },
    {
      "cell_type": "markdown",
      "metadata": {
        "id": "EeWtL3F5G35M"
      },
      "source": [
        "### Crossentropy method steps"
      ]
    },
    {
      "cell_type": "code",
      "execution_count": 36,
      "metadata": {
        "id": "00WWzr0KG35N"
      },
      "outputs": [],
      "source": [
        "def select_elites(states_batch, actions_batch, rewards_batch, percentile):\n",
        "    \"\"\"\n",
        "    Chọn các trạng thái (states) và hành động (actions) từ các phiên chơi có phần thưởng (reward) >= percentile\n",
        "    :param states_batch: danh sách các danh sách trạng thái, states_batch[phiên_i][thời_gian_t]\n",
        "    :param actions_batch: danh sách các danh sách hành động, actions_batch[phiên_i][thời_gian_t]\n",
        "    :param rewards_batch: danh sách các phần thưởng, rewards_batch[phiên_i]\n",
        "\n",
        "    :returns: elite_states, elite_actions, đều là các danh sách 1 chiều chứa trạng thái và hành động từ các phiên elite\n",
        "\n",
        "    Ghi chú: Phải giữ nguyên thứ tự gốc (theo số phiên và thứ tự thời gian trong phiên)\n",
        "    \"\"\"\n",
        "\n",
        "    # Tính ngưỡng phần thưởng (reward threshold) theo percentile yêu cầu\n",
        "    reward_threshold = np.percentile(rewards_batch, percentile)\n",
        "\n",
        "    # Khởi tạo danh sách trống để lưu các trạng thái và hành động elite\n",
        "    elite_states = []\n",
        "    elite_actions = []\n",
        "\n",
        "    # Duyệt qua từng phiên chơi, gồm states, actions, và reward tương ứng\n",
        "    for states, actions, reward in zip(states_batch, actions_batch, rewards_batch):\n",
        "        # Nếu phần thưởng của phiên >= ngưỡng threshold\n",
        "        if reward >= reward_threshold:\n",
        "            # Thêm toàn bộ trạng thái của phiên đó vào danh sách elite_states\n",
        "            elite_states.extend(states)\n",
        "            # Thêm toàn bộ hành động của phiên đó vào danh sách elite_actions\n",
        "            elite_actions.extend(actions)\n",
        "\n",
        "    # Trả về danh sách các trạng thái và hành động elite\n",
        "    return elite_states, elite_actions\n"
      ]
    },
    {
      "cell_type": "code",
      "execution_count": 37,
      "metadata": {
        "id": "teOLBGojG35N"
      },
      "outputs": [
        {
          "name": "stdout",
          "output_type": "stream",
          "text": [
            "Ok!\n"
          ]
        }
      ],
      "source": [
        "# Dữ liệu đầu vào: Các phiên chơi (games) gồm trạng thái (states), hành động (actions), và phần thưởng (rewards).\n",
        "states_batch = [\n",
        "    [1, 2, 3],     # game1: danh sách trạng thái trong game1\n",
        "    [4, 2, 0, 2],  # game2: danh sách trạng thái trong game2\n",
        "    [3, 1],        # game3: danh sách trạng thái trong game3\n",
        "]\n",
        "actions_batch = [\n",
        "    [0, 2, 4],     # game1: danh sách hành động trong game1\n",
        "    [3, 2, 0, 1],  # game2: danh sách hành động trong game2\n",
        "    [3, 3],        # game3: danh sách hành động trong game3\n",
        "]\n",
        "rewards_batch = [\n",
        "    3,  # game1: phần thưởng của game1\n",
        "    4,  # game2: phần thưởng của game2\n",
        "    5,  # game3: phần thưởng của game3\n",
        "]\n",
        "# Gọi hàm select_elites với percentile = 0, có nghĩa là chọn tất cả các phiên chơi vì không có phần thưởng tối thiểu\n",
        "test_result_0 = select_elites(states_batch, actions_batch, rewards_batch, percentile=0)\n",
        "\n",
        "# Gọi hàm select_elites với percentile = 30, có nghĩa là chỉ chọn các phiên chơi có phần thưởng lớn hơn hoặc bằng phần trăm 30.\n",
        "test_result_30 = select_elites(states_batch, actions_batch, rewards_batch, percentile=30)\n",
        "\n",
        "# Gọi hàm select_elites với percentile = 90, có nghĩa là chỉ chọn các phiên chơi có phần thưởng lớn hơn hoặc bằng phần trăm 90.\n",
        "test_result_90 = select_elites(states_batch, actions_batch, rewards_batch, percentile=90)\n",
        "\n",
        "# Gọi hàm select_elites với percentile = 100, có nghĩa là chỉ chọn phiên chơi có phần thưởng lớn nhất.\n",
        "test_result_100 = select_elites(states_batch, actions_batch, rewards_batch, percentile=100)\n",
        "\n",
        "# Kiểm tra kết quả trả về từ hàm select_elites với percentile = 0, phải trả về tất cả trạng thái và hành động theo thứ tự thời gian\n",
        "assert np.all(test_result_0[0] == [1, 2, 3, 4, 2, 0, 2, 3, 1]) and np.all(\n",
        "    test_result_0[1] == [0, 2, 4, 3, 2, 0, 1, 3, 3]), \"For percentile 0 you should return all states and actions in chronological order\"\n",
        "\n",
        "# Kiểm tra kết quả trả về từ hàm select_elites với percentile = 30, phải chỉ chọn các phiên có reward trong top 30%\n",
        "assert np.all(test_result_30[0] == [4, 2, 0, 2, 3, 1]) and np.all(\n",
        "    test_result_30[1] == [3, 2, 0, 1, 3, 3]), \"For percentile 30 you should only select states/actions from two first\"\n",
        "\n",
        "# Kiểm tra kết quả trả về từ hàm select_elites với percentile = 90, phải chỉ chọn phiên có reward trong top 10%\n",
        "assert np.all(test_result_90[0] == [3, 1]) and np.all(\n",
        "    test_result_90[1] == [3, 3]), \"For percentile 90 you should only select states/actions from one game\"\n",
        "\n",
        "# Kiểm tra kết quả trả về từ hàm select_elites với percentile = 100, phải chọn phiên có phần thưởng cao nhất\n",
        "assert np.all(test_result_100[0] == [3, 1]) and np.all(\n",
        "    test_result_100[1] == [3, 3]), \"Please make sure you use >=, not >. Also double-check how you compute percentile.\"\n",
        "\n",
        "# Nếu không có lỗi, in ra \"Ok!\" để xác nhận các kết quả đều đúng\n",
        "print(\"Ok!\")\n"
      ]
    },
    {
      "cell_type": "code",
      "execution_count": 38,
      "metadata": {
        "id": "wYLBHFFwG35N"
      },
      "outputs": [],
      "source": [
        "def get_new_policy(elite_states, elite_actions):\n",
        "    \"\"\"\n",
        "    Dựa trên danh sách các trạng thái/hành động elite từ select_elites,\n",
        "    trả về một chính sách mới, trong đó xác suất của mỗi hành động tỷ lệ thuận với\n",
        "\n",
        "        policy[s_i, a_i] ~ #[số lần xuất hiện của s_i và a_i trong các trạng thái/hành động elite]\n",
        "    Đừng quên chuẩn hóa chính sách để có xác suất hợp lệ và xử lý trường hợp 0/0.\n",
        "    Đối với các trạng thái chưa được thăm, sử dụng phân phối đồng đều (1/n_actions cho tất cả các trạng thái).\n",
        "\n",
        "    :param elite_states: Danh sách 1D các trạng thái từ các phiên elite\n",
        "    :param elite_actions: Danh sách 1D các hành động từ các phiên elite\n",
        "    \"\"\"\n",
        "    # Khởi tạo chính sách mới với giá trị ban đầu là 0\n",
        "    new_policy = np.zeros([n_states, n_actions])  # new_policy là một ma trận có kích thước n_states x n_actions\n",
        "\n",
        "    ##<YOUR CODE: thiết lập xác suất cho các hành động dựa trên các trạng thái và hành động elite>\n",
        "    # Đếm số lần xuất hiện của từng cặp (state, action)\n",
        "    for state, action in zip(elite_states, elite_actions):\n",
        "        new_policy[state, action] += 1  # Tăng giá trị tại (state, action) tương ứng mỗi khi gặp cặp (state, action)\n",
        "\n",
        "    # Chuẩn hóa xác suất để đảm bảo tổng xác suất của mỗi trạng thái bằng 1\n",
        "    for state in range(n_states):  # Duyệt qua tất cả các trạng thái\n",
        "        if np.sum(new_policy[state]) > 0:  # Nếu trạng thái này đã xuất hiện ít nhất một lần\n",
        "            # Nếu trạng thái đã được ghé thăm, chuẩn hóa xác suất (tổng xác suất của các hành động phải bằng 1)\n",
        "            new_policy[state] /= np.sum(new_policy[state])  # Chia cho tổng giá trị của tất cả các hành động\n",
        "        else:\n",
        "            # Nếu trạng thái chưa được ghé thăm, gán xác suất đồng đều cho tất cả các hành động\n",
        "            new_policy[state] = 1.0 / n_actions  # Chia đều xác suất giữa tất cả các hành động\n",
        "\n",
        "    # Đừng quên thiết lập 1/n_actions cho tất cả các hành động trong các trạng thái chưa được thăm.\n",
        "\n",
        "    return new_policy  # Trả về chính sách mới (một ma trận xác suất)\n"
      ]
    },
    {
      "cell_type": "code",
      "execution_count": 42,
      "metadata": {
        "id": "I1VbNcpoG35O"
      },
      "outputs": [
        {
          "name": "stdout",
          "output_type": "stream",
          "text": [
            "Ok!\n"
          ]
        }
      ],
      "source": [
        "elite_states = [1, 2, 3, 4, 2, 0, 2, 3, 1]  # Danh sách các trạng thái trong các phiên chơi elite\n",
        "elite_actions = [0, 2, 4, 3, 2, 0, 1, 3, 3]  # Danh sách các hành động tương ứng với mỗi trạng thái trong các phiên chơi elite\n",
        "\n",
        "# Gọi hàm get_new_policy để tính toán chính sách mới dựa trên các trạng thái và hành động elite\n",
        "new_policy = get_new_policy(elite_states, elite_actions)\n",
        "\n",
        "# Kiểm tra xem chính sách mới có chứa giá trị NaN hoặc vô hạn (inf) không\n",
        "assert np.isfinite(new_policy).all(), \"Chính sách mới của bạn chứa NaN hoặc +-inf. Hãy chắc chắn rằng bạn không chia cho 0.\"\n",
        "\n",
        "# Kiểm tra xem tất cả xác suất hành động có phải là giá trị không âm (>=0) không\n",
        "assert np.all(new_policy >= 0), \"Chính sách mới của bạn không thể có xác suất hành động âm.\"\n",
        "\n",
        "# Kiểm tra xem tổng xác suất của mỗi trạng thái có bằng 1 không (đảm bảo đây là một phân phối xác suất hợp lệ)\n",
        "assert np.allclose(new_policy.sum(axis=-1), 1), \"Chính sách mới của bạn phải là một phân phối xác suất hợp lệ, tức là tổng xác suất phải bằng 1 cho mỗi trạng thái.\"\n",
        "\n",
        "# Định nghĩa câu trả lời tham chiếu (reference_answer) để kiểm tra tính đúng đắn của chính sách mới\n",
        "reference_answer = np.array(\n",
        "    [\n",
        "        [1.0, 0.0, 0.0, 0.0, 0.0],  # Trạng thái 0: 100% hành động 0\n",
        "        [0.5, 0.0, 0.0, 0.5, 0.0],  # Trạng thái 1: 50% hành động 0, 50% hành động 3\n",
        "        [0.0, 0.33333333, 0.66666667, 0.0, 0.0],  # Trạng thái 2: 33% hành động 1, 67% hành động 2\n",
        "        [0.0, 0.0, 0.0, 0.5, 0.5],  # Trạng thái 3: 50% hành động 3, 50% hành động 4\n",
        "    ]\n",
        ")\n",
        "\n",
        "# Kiểm tra xem chính sách mới có khớp với câu trả lời tham chiếu (reference_answer) không cho các trạng thái và hành động đầu tiên\n",
        "assert np.allclose(new_policy[:4, :5], reference_answer)\n",
        "\n",
        "print(\"Ok!\")  # In ra thông báo \"Ok!\" nếu tất cả các kiểm tra đều thành công\n"
      ]
    },
    {
      "cell_type": "markdown",
      "metadata": {
        "id": "WVvZq1fSG35O"
      },
      "source": [
        "# Training loop\n",
        "Generate sessions, select N best and fit to those."
      ]
    },
    {
      "cell_type": "code",
      "execution_count": 43,
      "metadata": {
        "id": "3CmH7Aj4G35O"
      },
      "outputs": [],
      "source": [
        "from IPython.display import clear_output  # Nhập hàm clear_output từ thư viện IPython để xóa kết quả cũ trong môi trường Jupyter Notebook\n",
        "def show_progress(rewards_batch, log, percentile, reward_range=[-990, +10]):\n",
        "    \"\"\"\n",
        "    Hàm tiện ích để hiển thị tiến trình huấn luyện.\n",
        "    Không có toán học phức tạp ở đây, chỉ là các biểu đồ.\n",
        "    \"\"\"\n",
        "    mean_reward = np.mean(rewards_batch)  # Tính toán phần thưởng trung bình từ batch phần thưởng\n",
        "    threshold = np.percentile(rewards_batch, percentile)  # Tính toán ngưỡng phần thưởng tại percentile đã cho\n",
        "    log.append([mean_reward, threshold])  # Thêm giá trị phần thưởng trung bình và ngưỡng vào log\n",
        "    \n",
        "    plt.figure(figsize=[8, 4])  # Tạo một biểu đồ mới với kích thước 8x4 inch\n",
        "    plt.subplot(1, 2, 1)  # Tạo một subplot với 1 hàng và 2 cột, và đặt đồ họa hiện tại ở vị trí đầu tiên\n",
        "    \n",
        "    # Vẽ biểu đồ phần thưởng trung bình theo thời gian\n",
        "    plt.plot(list(zip(*log))[0], label=\"Mean rewards\")\n",
        "    \n",
        "    # Vẽ biểu đồ ngưỡng phần thưởng theo thời gian\n",
        "    plt.plot(list(zip(*log))[1], label=\"Reward thresholds\")\n",
        "    plt.legend()  # Hiển thị chú thích trên đồ thị\n",
        "    plt.grid()  # Hiển thị lưới trên đồ thị\n",
        "    plt.subplot(1, 2, 2)  # Tạo một subplot ở vị trí thứ hai (cùng hàng, cột thứ 2)\n",
        "    \n",
        "    # Vẽ histogram của batch phần thưởng trong khoảng giá trị reward_range\n",
        "    plt.hist(rewards_batch, range=reward_range)\n",
        "    \n",
        "    # Vẽ một đường thẳng đứng để biểu thị ngưỡng phần thưởng tại percentile (màu đỏ)\n",
        "    plt.vlines(\n",
        "        [np.percentile(rewards_batch, percentile)],  # Đặt vị trí ngưỡng percentile\n",
        "        [0],  # Đoạn thẳng bắt đầu từ giá trị 0 trên trục y\n",
        "        [100],  # Đoạn thẳng kết thúc ở giá trị 100 trên trục y (hoặc giá trị thích hợp)\n",
        "        label=\"percentile\",  # Thêm nhãn cho đường thẳng\n",
        "        color=\"red\",  # Đặt màu cho đường thẳng là đỏ\n",
        "    )\n",
        "    plt.legend()  # Hiển thị chú thích trên đồ thị\n",
        "    plt.grid()  # Hiển thị lưới trên đồ thị\n",
        "    clear_output(True)  # Xóa tất cả các kết quả trước đó trong Jupyter Notebook để chỉ hiển thị đồ thị mới\n",
        "    print(\"mean reward = %.3f, threshold=%.3f\" % (mean_reward, threshold))  # In ra phần thưởng trung bình và ngưỡng phần thưởng\n",
        "    plt.show()  # Hiển thị các đồ thị đã vẽ lên màn hình\n"
      ]
    },
    {
      "cell_type": "code",
      "execution_count": 44,
      "metadata": {
        "id": "tz0Yd964G35O"
      },
      "outputs": [],
      "source": [
        "# Đặt lại chính sách\n",
        "policy = initialize_policy(n_states, n_actions)\n"
      ]
    },
    {
      "cell_type": "code",
      "execution_count": 45,
      "metadata": {
        "id": "-cNq5hndG35O"
      },
      "outputs": [
        {
          "name": "stdout",
          "output_type": "stream",
          "text": [
            "mean reward = -47.416, threshold=6.500\n"
          ]
        },
        {
          "data": {
            "image/png": "[encoded data removed]",
            "text/plain": [
              "<Figure size 800x400 with 2 Axes>"
            ]
          },
          "metadata": {},
          "output_type": "display_data"
        }
      ],
      "source": [
        "_sessions = 250  # Số lượng phiên chơi được tạo ra\n",
        "percentile = 50  # Loại bỏ 50% các phiên chơi có điểm thấp nhất\n",
        "learning_rate = 0.5 # Tốc độ cập nhật chính sách, giá trị từ 0 đến 1\n",
        "\n",
        "log = []  # Danh sách để lưu trữ thông tin về tiến trình huấn luyện\n",
        "\n",
        "for i in range(100):  # Lặp qua 100 vòng huấn luyện\n",
        "    # Tạo danh sách n_sessions phiên chơi mới\n",
        "    %time sessions = [generate_session(env, policy) for _ in range(_sessions)]\n",
        "\n",
        "    # Tách danh sách các trạng thái, hành động và phần thưởng từ các phiên chơi\n",
        "    states_batch, actions_batch, rewards_batch = zip(*sessions)\n",
        "\n",
        "    # Chọn các trạng thái và hành động từ các phiên chơi tốt nhất (elite)\n",
        "    elite_states, elite_actions = select_elites(states_batch, actions_batch, rewards_batch, percentile)\n",
        "\n",
        "    # Tính toán chính sách mới dựa trên các trạng thái và hành động elite\n",
        "    new_policy = get_new_policy(elite_states, elite_actions)\n",
        "\n",
        "    # Cập nhật chính sách bằng cách kết hợp chính sách cũ và chính sách mới\n",
        "    policy = learning_rate * new_policy + (1 - learning_rate) * policy\n",
        "\n",
        "    # Hiển thị kết quả trên biểu đồ\n",
        "    show_progress(rewards_batch, log, percentile)"
      ]
    },
    {
      "cell_type": "markdown",
      "metadata": {
        "id": "K5LIoVTuG35O"
      },
      "source": [
        "### Reflecting on results\n",
        "\n",
        "You may have noticed that the taxi problem quickly converges from less than -1000 to a near-optimal score and then descends back into -50/-100. This is in part because the environment has some innate randomness. Namely, the starting points of passenger/driver change from episode to episode.\n",
        "\n",
        "In case CEM failed to learn how to win from one distinct starting point, it will simply discard it because no sessions from that starting point will make it into the \"elites\".\n",
        "\n",
        "To mitigate that problem, you can either reduce the threshold for elite sessions (duct tape way) or change the way you evaluate strategy (theoretically correct way). For each starting state, you can sample an action randomly, and then evaluate this action by running _several_ games starting from it and averaging the total reward. Choosing elite sessions with this kind of sampling (where each session's reward is counted as the average of the rewards of all sessions with the same starting state and action) should improve the performance of your policy."
      ]
    },
    {
      "cell_type": "markdown",
      "metadata": {
        "id": "ubIHBgQ-G35O"
      },
      "source": [
        "\n",
        "### You're not done yet!\n",
        "\n",
        "Go to [`./deep_crossentropy_method.ipynb`](./deep_crossentropy_method.ipynb) for a more serious task"
      ]
    }
  ],
  "metadata": {
    "colab": {
      "provenance": []
    },
    "kernelspec": {
      "display_name": "base",
      "language": "python",
      "name": "python3"
    },
    "language_info": {
      "codemirror_mode": {
        "name": "ipython",
        "version": 3
      },
      "file_extension": ".py",
      "mimetype": "text/x-python",
      "name": "python",
      "nbconvert_exporter": "python",
      "pygments_lexer": "ipython3",
      "version": "3.12.7"
    }
  },
  "nbformat": 4,
  "nbformat_minor": 0
}
